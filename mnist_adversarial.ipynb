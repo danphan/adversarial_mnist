{
  "nbformat": 4,
  "nbformat_minor": 0,
  "metadata": {
    "colab": {
      "provenance": [],
      "authorship_tag": "ABX9TyP0tJJwdPaOHUiMkahU6Th7",
      "include_colab_link": true
    },
    "kernelspec": {
      "name": "python3",
      "display_name": "Python 3"
    },
    "language_info": {
      "name": "python"
    }
  },
  "cells": [
    {
      "cell_type": "markdown",
      "metadata": {
        "id": "view-in-github",
        "colab_type": "text"
      },
      "source": [
        "<a href=\"https://colab.research.google.com/github/danphan/adversarial_mnist/blob/main/mnist_adversarial.ipynb\" target=\"_parent\"><img src=\"https://colab.research.google.com/assets/colab-badge.svg\" alt=\"Open In Colab\"/></a>"
      ]
    },
    {
      "cell_type": "code",
      "execution_count": null,
      "metadata": {
        "id": "Z0_QOoEtCEuH"
      },
      "outputs": [],
      "source": [
        "import numpy as np\n",
        "import pandas as pd\n",
        "import matplotlib.pyplot as plt\n",
        "import tensorflow as tf\n",
        "import tensorflow_datasets as tfds\n",
        "import time\n",
        "import random"
      ]
    },
    {
      "cell_type": "code",
      "source": [
        "(ds_train, ds_test), ds_info = tfds.load(\n",
        "    'mnist',\n",
        "    split=['train', 'test'],\n",
        "    shuffle_files=True,\n",
        "    as_supervised=True,\n",
        "    with_info=True,\n",
        ")\n"
      ],
      "metadata": {
        "id": "Qpe9DZR8CSmJ"
      },
      "execution_count": null,
      "outputs": []
    },
    {
      "cell_type": "code",
      "source": [
        "def normalize_img(image, label):\n",
        "  \"\"\"Normalizes images: `uint8` -> `float32`.\"\"\"\n",
        "  return tf.cast(image, tf.float32) / 255., label"
      ],
      "metadata": {
        "id": "DPpcMqyQCukM"
      },
      "execution_count": null,
      "outputs": []
    },
    {
      "cell_type": "markdown",
      "source": [
        "Create Training Pipeline"
      ],
      "metadata": {
        "id": "7cGlgLLKEYJu"
      }
    },
    {
      "cell_type": "code",
      "source": [
        "ds_train = ds_train.map(\n",
        "    normalize_img, num_parallel_calls=tf.data.AUTOTUNE) #apply normalize_img to all of the data\n",
        "ds_train = ds_train.cache() #store data in cache so that it can be loaded faster\n",
        "ds_train = ds_train.shuffle(ds_info.splits['train'].num_examples) #make sure to shuffle data for randomness. tell shuffle method the size of the dataset to ensure randomness\n",
        "ds_train = ds_train.batch(128) #make batch size power of 2 for efficiency\n",
        "ds_train = ds_train.prefetch(tf.data.AUTOTUNE) #preprocess next batch while performing current training step"
      ],
      "metadata": {
        "id": "xsmd_dcYCxfx"
      },
      "execution_count": null,
      "outputs": []
    },
    {
      "cell_type": "markdown",
      "source": [
        "Create Evaluation Pipeline"
      ],
      "metadata": {
        "id": "GPsQgS3VEdXp"
      }
    },
    {
      "cell_type": "code",
      "source": [
        "ds_test = ds_test.map(\n",
        "    normalize_img, num_parallel_calls = tf.data.AUTOTUNE)\n",
        "ds_test = ds_test.cache()\n",
        "#no need for shuffling during evaluation. we are not doing any gradient descent here.\n",
        "ds_test = ds_test.batch(128)\n",
        "ds_test = ds_test.prefetch(tf.data.AUTOTUNE)"
      ],
      "metadata": {
        "id": "tCM15qOeDASK"
      },
      "execution_count": null,
      "outputs": []
    },
    {
      "cell_type": "markdown",
      "source": [
        "Create Basic Model"
      ],
      "metadata": {
        "id": "2iAshPTvFHHX"
      }
    },
    {
      "cell_type": "code",
      "source": [
        "model = tf.keras.models.Sequential([\n",
        "    tf.keras.layers.Flatten(input_shape = (28,28)),\n",
        "    tf.keras.layers.Dense(128, activation = 'relu'),\n",
        "    tf.keras.layers.Dense(10)\n",
        "])\n",
        "model.compile(\n",
        "    optimizer = tf.keras.optimizers.Adam(0.001),\n",
        "    loss = tf.keras.losses.SparseCategoricalCrossentropy(from_logits = True),\n",
        "    metrics = [tf.keras.metrics.SparseCategoricalAccuracy()],\n",
        ")\n",
        "\n",
        "history = model.fit(\n",
        "    ds_train,\n",
        "    epochs = 20,\n",
        "    validation_data = ds_test\n",
        ")"
      ],
      "metadata": {
        "colab": {
          "base_uri": "https://localhost:8080/"
        },
        "id": "b9U1t74SFOtt",
        "outputId": "a327ffc5-607a-4e44-e369-ad5394b1a7b2"
      },
      "execution_count": null,
      "outputs": [
        {
          "output_type": "stream",
          "name": "stdout",
          "text": [
            "Epoch 1/20\n",
            "469/469 [==============================] - 11s 8ms/step - loss: 0.3655 - sparse_categorical_accuracy: 0.8996 - val_loss: 0.2012 - val_sparse_categorical_accuracy: 0.9412\n",
            "Epoch 2/20\n",
            "469/469 [==============================] - 2s 5ms/step - loss: 0.1725 - sparse_categorical_accuracy: 0.9513 - val_loss: 0.1475 - val_sparse_categorical_accuracy: 0.9570\n",
            "Epoch 3/20\n",
            "469/469 [==============================] - 3s 5ms/step - loss: 0.1238 - sparse_categorical_accuracy: 0.9640 - val_loss: 0.1123 - val_sparse_categorical_accuracy: 0.9645\n",
            "Epoch 4/20\n",
            "469/469 [==============================] - 4s 8ms/step - loss: 0.0963 - sparse_categorical_accuracy: 0.9724 - val_loss: 0.0961 - val_sparse_categorical_accuracy: 0.9699\n",
            "Epoch 5/20\n",
            "469/469 [==============================] - 3s 5ms/step - loss: 0.0779 - sparse_categorical_accuracy: 0.9775 - val_loss: 0.0875 - val_sparse_categorical_accuracy: 0.9735\n",
            "Epoch 6/20\n",
            "469/469 [==============================] - 3s 5ms/step - loss: 0.0644 - sparse_categorical_accuracy: 0.9811 - val_loss: 0.0807 - val_sparse_categorical_accuracy: 0.9740\n",
            "Epoch 7/20\n",
            "469/469 [==============================] - 3s 6ms/step - loss: 0.0538 - sparse_categorical_accuracy: 0.9847 - val_loss: 0.0815 - val_sparse_categorical_accuracy: 0.9756\n",
            "Epoch 8/20\n",
            "469/469 [==============================] - 3s 5ms/step - loss: 0.0452 - sparse_categorical_accuracy: 0.9873 - val_loss: 0.0800 - val_sparse_categorical_accuracy: 0.9760\n",
            "Epoch 9/20\n",
            "469/469 [==============================] - 3s 5ms/step - loss: 0.0384 - sparse_categorical_accuracy: 0.9893 - val_loss: 0.0753 - val_sparse_categorical_accuracy: 0.9771\n",
            "Epoch 10/20\n",
            "469/469 [==============================] - 3s 7ms/step - loss: 0.0322 - sparse_categorical_accuracy: 0.9912 - val_loss: 0.0805 - val_sparse_categorical_accuracy: 0.9763\n",
            "Epoch 11/20\n",
            "469/469 [==============================] - 3s 6ms/step - loss: 0.0283 - sparse_categorical_accuracy: 0.9924 - val_loss: 0.0806 - val_sparse_categorical_accuracy: 0.9757\n",
            "Epoch 12/20\n",
            "469/469 [==============================] - 3s 6ms/step - loss: 0.0243 - sparse_categorical_accuracy: 0.9938 - val_loss: 0.0739 - val_sparse_categorical_accuracy: 0.9770\n",
            "Epoch 13/20\n",
            "469/469 [==============================] - 4s 8ms/step - loss: 0.0204 - sparse_categorical_accuracy: 0.9951 - val_loss: 0.0784 - val_sparse_categorical_accuracy: 0.9770\n",
            "Epoch 14/20\n",
            "469/469 [==============================] - 2s 5ms/step - loss: 0.0179 - sparse_categorical_accuracy: 0.9953 - val_loss: 0.0762 - val_sparse_categorical_accuracy: 0.9780\n",
            "Epoch 15/20\n",
            "469/469 [==============================] - 4s 8ms/step - loss: 0.0146 - sparse_categorical_accuracy: 0.9970 - val_loss: 0.0797 - val_sparse_categorical_accuracy: 0.9777\n",
            "Epoch 16/20\n",
            "469/469 [==============================] - 3s 5ms/step - loss: 0.0134 - sparse_categorical_accuracy: 0.9970 - val_loss: 0.0771 - val_sparse_categorical_accuracy: 0.9787\n",
            "Epoch 17/20\n",
            "469/469 [==============================] - 2s 5ms/step - loss: 0.0120 - sparse_categorical_accuracy: 0.9973 - val_loss: 0.0820 - val_sparse_categorical_accuracy: 0.9780\n",
            "Epoch 18/20\n",
            "469/469 [==============================] - 3s 5ms/step - loss: 0.0093 - sparse_categorical_accuracy: 0.9984 - val_loss: 0.0774 - val_sparse_categorical_accuracy: 0.9785\n",
            "Epoch 19/20\n",
            "469/469 [==============================] - 3s 7ms/step - loss: 0.0076 - sparse_categorical_accuracy: 0.9987 - val_loss: 0.0794 - val_sparse_categorical_accuracy: 0.9791\n",
            "Epoch 20/20\n",
            "469/469 [==============================] - 3s 7ms/step - loss: 0.0066 - sparse_categorical_accuracy: 0.9989 - val_loss: 0.0832 - val_sparse_categorical_accuracy: 0.9788\n"
          ]
        }
      ]
    },
    {
      "cell_type": "code",
      "source": [
        "plt.plot(history.history['loss'], 'o-', label = 'train_loss')\n",
        "plt.plot(history.history['val_loss'], 'o-', label = 'val_loss')\n",
        "plt.ylabel('loss')\n",
        "plt.xlabel('epoch')\n",
        "plt.legend();"
      ],
      "metadata": {
        "colab": {
          "base_uri": "https://localhost:8080/",
          "height": 279
        },
        "id": "cxw7DCz4F-3u",
        "outputId": "eda7e97b-1ead-4769-cf16-02322abfb55d"
      },
      "execution_count": null,
      "outputs": [
        {
          "output_type": "display_data",
          "data": {
            "text/plain": [
              "<Figure size 432x288 with 1 Axes>"
            ],
            "image/png": "[encoded data removed]"
          },
          "metadata": {
            "needs_background": "light"
          }
        }
      ]
    },
    {
      "cell_type": "markdown",
      "source": [
        "Let's look at a few images, and their labels:"
      ],
      "metadata": {
        "id": "LdCVinM6IHs0"
      }
    },
    {
      "cell_type": "code",
      "source": [
        "for x in ds_train:\n",
        "  imgs, labels = x\n",
        "  break\n",
        "\n",
        "img_idx = 0\n",
        "preds = model(imgs)\n",
        "probs_pred = tf.nn.softmax(preds)\n",
        "print('Predicted:',tf.math.argmax(probs_pred[img_idx]).numpy())\n",
        "print('Actual:',labels[img_idx].numpy())\n",
        "plt.imshow(imgs[img_idx, :,:,0])\n",
        "plt.show()"
      ],
      "metadata": {
        "colab": {
          "base_uri": "https://localhost:8080/",
          "height": 300
        },
        "id": "vPWUZdv_IbwD",
        "outputId": "d73ef650-2900-4ffe-d96a-39249e4bc848"
      },
      "execution_count": null,
      "outputs": [
        {
          "output_type": "stream",
          "name": "stdout",
          "text": [
            "Predicted: 2\n",
            "Actual: 2\n"
          ]
        },
        {
          "output_type": "display_data",
          "data": {
            "text/plain": [
              "<Figure size 432x288 with 1 Axes>"
            ],
            "image/png": "[encoded data removed]"
          },
          "metadata": {
            "needs_background": "light"
          }
        }
      ]
    },
    {
      "cell_type": "code",
      "source": [
        "loss_object = tf.keras.losses.SparseCategoricalCrossentropy(from_logits = True)\n",
        "\n",
        "def create_adversarial_pattern(input_image, input_label):\n",
        "  with tf.GradientTape() as tape:\n",
        "    tape.watch(input_image)\n",
        "    prediction = model(input_image)\n",
        "    loss = loss_object(input_label, prediction)\n",
        "\n",
        "  # Get the gradients of the loss w.r.t to the input image.\n",
        "  gradient = tape.gradient(loss, imgs)\n",
        "  # Get the sign of the gradients to create the perturbation\n",
        "  signed_grad = tf.sign(gradient)\n",
        "  return signed_grad"
      ],
      "metadata": {
        "id": "3lktVoEQJZpM"
      },
      "execution_count": null,
      "outputs": []
    },
    {
      "cell_type": "code",
      "source": [
        "# Get the input label of the image.\n",
        "#label = tf.reshape(label, (1, image_probs.shape[-1]))\n",
        "\n",
        "perturbations = create_adversarial_pattern(imgs, labels)\n",
        "plt.imshow(perturbations[img_idx], cmap = 'gray')\n",
        "plt.show()\n",
        "#plt.imshow(perturbations[0] * 0.5 + 0.5);  # To change [-1, 1] to [0,1]\n"
      ],
      "metadata": {
        "colab": {
          "base_uri": "https://localhost:8080/",
          "height": 265
        },
        "id": "cFCHvz7uMZB5",
        "outputId": "c6f6c016-34f5-4301-b125-f946ba50c8c7"
      },
      "execution_count": null,
      "outputs": [
        {
          "output_type": "display_data",
          "data": {
            "text/plain": [
              "<Figure size 432x288 with 1 Axes>"
            ],
            "image/png": "[encoded data removed]"
          },
          "metadata": {
            "needs_background": "light"
          }
        }
      ]
    },
    {
      "cell_type": "code",
      "source": [
        "def display_images(image, description = 'hi', idx = 0):\n",
        "  image = tf.expand_dims(image, axis = 0)\n",
        "  model_pred = model.predict(image)\n",
        "  model_prob = tf.nn.softmax(model_pred)\n",
        "  label_pred = tf.math.argmax(model_prob, axis = 1)\n",
        "  confidence = []\n",
        "  for i in range(label_pred.shape[0]):\n",
        "    confidence.append(model_prob[i, label_pred[i]])\n",
        "\n",
        "  plt.figure()\n",
        "  plt.imshow(image[0]) #show idx'th image\n",
        "  plt.title('{} \\n {} : {}% Confidence'.format(description,\n",
        "                                                   label_pred[idx], confidence[idx]*100))\n",
        "  plt.show()\n"
      ],
      "metadata": {
        "id": "pd5HgB_KPQxx"
      },
      "execution_count": null,
      "outputs": []
    },
    {
      "cell_type": "code",
      "source": [
        "epsilons = [0, 0.01, 0.05, 0.1]\n",
        "descriptions = [('Epsilon = {:0.3f}'.format(eps) if eps else 'Input')\n",
        "                for eps in epsilons]\n",
        "\n",
        "for i, eps in enumerate(epsilons):\n",
        "  adv_x = imgs + eps*perturbations\n",
        "  adv_x = tf.clip_by_value(adv_x, 0, 1)\n",
        "  display_images(adv_x[100], descriptions[i])\n"
      ],
      "metadata": {
        "colab": {
          "base_uri": "https://localhost:8080/",
          "height": 1000
        },
        "id": "hFD2o30nQ7j-",
        "outputId": "e2bfa2cc-a699-479e-d390-72f88338c4f3"
      },
      "execution_count": null,
      "outputs": [
        {
          "output_type": "stream",
          "name": "stdout",
          "text": [
            "1/1 [==============================] - 0s 72ms/step\n"
          ]
        },
        {
          "output_type": "display_data",
          "data": {
            "text/plain": [
              "<Figure size 432x288 with 1 Axes>"
            ],
            "image/png": "[encoded data removed]"
          },
          "metadata": {
            "needs_background": "light"
          }
        },
        {
          "output_type": "stream",
          "name": "stdout",
          "text": [
            "1/1 [==============================] - 0s 25ms/step\n"
          ]
        },
        {
          "output_type": "display_data",
          "data": {
            "text/plain": [
              "<Figure size 432x288 with 1 Axes>"
            ],
            "image/png": "[encoded data removed]"
          },
          "metadata": {
            "needs_background": "light"
          }
        },
        {
          "output_type": "stream",
          "name": "stdout",
          "text": [
            "1/1 [==============================] - 0s 26ms/step\n"
          ]
        },
        {
          "output_type": "display_data",
          "data": {
            "text/plain": [
              "<Figure size 432x288 with 1 Axes>"
            ],
            "image/png": "[encoded data removed]"
          },
          "metadata": {
            "needs_background": "light"
          }
        },
        {
          "output_type": "stream",
          "name": "stdout",
          "text": [
            "1/1 [==============================] - 0s 28ms/step\n"
          ]
        },
        {
          "output_type": "display_data",
          "data": {
            "text/plain": [
              "<Figure size 432x288 with 1 Axes>"
            ],
            "image/png": "[encoded data removed]"
          },
          "metadata": {
            "needs_background": "light"
          }
        }
      ]
    },
    {
      "cell_type": "markdown",
      "source": [
        "Evaluate Accuracy on adversarially-perturbed test set"
      ],
      "metadata": {
        "id": "sMG9KvO26TLG"
      }
    },
    {
      "cell_type": "code",
      "source": [
        "class Adversary:\n",
        "  def __init__(self, model, img_modifier = None):\n",
        "    self.model = model \n",
        "    self.img_modifier = img_modifier\n",
        "\n",
        "  def adversarial_accuracy(self, data):\n",
        "    num_correct = 0\n",
        "    num_instances = 0\n",
        "\n",
        "    for img, label in data:\n",
        "      #modify image\n",
        "      img_modified = self.img_modifier(self.model, img, label)\n",
        "\n",
        "      model_out = self.model(img_modified)\n",
        "      model_prob = tf.nn.softmax(model_out)\n",
        "      model_pred = tf.math.argmax(model_prob, axis = -1)\n",
        "      equals = tf.cast(model_pred == label, dtype = tf.float64)\n",
        "      num_correct += tf.math.reduce_sum(equals).numpy()\n",
        "      num_instances += len(img)\n",
        "    return num_correct/num_instances\n",
        "\n",
        "def fast_gradient_sign_method(epsilon, model, img, label):\n",
        "  with tf.GradientTape() as tape:\n",
        "    tape.watch(img)\n",
        "    prediction = model(img)\n",
        "    loss = loss_object(label, prediction)\n",
        "\n",
        "  # Get the gradients of the loss w.r.t to the input image.\n",
        "  gradient = tape.gradient(loss, img)\n",
        "  # Get the sign of the gradients to create the perturbation\n",
        "  signed_grad = tf.sign(gradient)\n",
        "  return tf.clip_by_value(img + epsilon * signed_grad, 0, 1)\n"
      ],
      "metadata": {
        "id": "1hulGJ_CTGrA"
      },
      "execution_count": null,
      "outputs": []
    },
    {
      "cell_type": "markdown",
      "source": [
        "Apply Fast-Gradient-Sign method to test set"
      ],
      "metadata": {
        "id": "KH-sOwNdJ2Zc"
      }
    },
    {
      "cell_type": "code",
      "source": [
        "for eps in [0,0.01,0.05,0.1]:\n",
        "  t1 = time.time()\n",
        "  adv = Adversary(model, lambda model, img, label: fast_gradient_sign_method(eps, model, img, label))\n",
        "  adv_acc = adv.adversarial_accuracy(ds_test)\n",
        "  t2 = time.time()\n",
        "  print(f'Epsilon: {eps}')\n",
        "  print(f'Accuracy: {adv_acc}')\n",
        "  print(f'Time to obtain adversarial accuracy: {t2-t1}seconds\\n')"
      ],
      "metadata": {
        "colab": {
          "base_uri": "https://localhost:8080/"
        },
        "id": "eCnnbu1V59cf",
        "outputId": "de46e99a-5352-4e2e-cd83-258e9535bfb1"
      },
      "execution_count": null,
      "outputs": [
        {
          "output_type": "stream",
          "name": "stdout",
          "text": [
            "Epsilon: 0\n",
            "Accuracy: 0.9788\n",
            "Time to obtain adversarial accuracy: 2.55361008644104seconds\n",
            "\n",
            "Epsilon: 0.01\n",
            "Accuracy: 0.9495\n",
            "Time to obtain adversarial accuracy: 1.3001022338867188seconds\n",
            "\n",
            "Epsilon: 0.05\n",
            "Accuracy: 0.3928\n",
            "Time to obtain adversarial accuracy: 1.2586054801940918seconds\n",
            "\n",
            "Epsilon: 0.1\n",
            "Accuracy: 0.1198\n",
            "Time to obtain adversarial accuracy: 2.547677516937256seconds\n",
            "\n"
          ]
        }
      ]
    },
    {
      "cell_type": "markdown",
      "source": [
        "Let's implement the Projected Gradient Descent attack. The idea behind PGD is that we want to find the perturbation $\\delta$ which maximizes the loss $l(x+\\delta, y)$, where $x$ is the image and $y$ is the correct class. However, we will restrict $\\delta$ to be small. This means that we will restrict the norm of $\\delta$, $|\\delta| < \\epsilon$, where $\\epsilon$ is any number we want. We can also use whatever norm we want. Here, we will use the $L_\\infty$ norm.\n",
        "\n",
        "To this end, we will simply perform gradient ascent, with some learning rate $\\eta$, for some number of iterations $N$. At each gradient ascent step, we will clip $\\delta$ such that its norm does not exceed $\\epsilon$.\n",
        "\n",
        "We will for now make this an untargeted attack (i.e. we will not try to make the network guess a specific guess."
      ],
      "metadata": {
        "id": "ozN6TUU49frs"
      }
    },
    {
      "cell_type": "code",
      "source": [
        "def pgd(model, img, label, epsilon = 1e-2, lr = 1e-2, num_iter = 10):\n",
        "  delta = tf.random.uniform(tf.shape(img), minval = -epsilon, maxval = epsilon)\n",
        "  img_mod = img + delta\n",
        "  for i in range(num_iter):\n",
        "    with tf.GradientTape() as tape:\n",
        "      tape.watch(img_mod)\n",
        "      prediction = model(img_mod)\n",
        "      loss = loss_object(label, prediction)\n",
        "    grad = tape.gradient(loss, img_mod)\n",
        "    delta += lr * tf.sign(grad) #take the sign of the gradient, similar to the fast-gradient-sign-method\n",
        "    delta  = tf.clip_by_value(delta, -epsilon, epsilon)\n",
        "    img_mod = tf.clip_by_value(img + delta, 0, 1)\n",
        "  return img_mod"
      ],
      "metadata": {
        "id": "S33vuOzS9e2r"
      },
      "execution_count": null,
      "outputs": []
    },
    {
      "cell_type": "markdown",
      "source": [
        "Let's try this projected gradient descent (ascent) method and see how it affects the accuracy"
      ],
      "metadata": {
        "id": "5vNhpbB-EoPr"
      }
    },
    {
      "cell_type": "code",
      "source": [
        "for eps in [0,0.01,0.05,0.1]:\n",
        "  t1 = time.time()\n",
        "  adv = Adversary(model, lambda model, img, label: pgd(model, img, label, epsilon = eps, lr = eps/3, num_iter = 20))\n",
        "  adv_acc = adv.adversarial_accuracy(ds_test)\n",
        "  t2 = time.time()\n",
        "  print(f'Epsilon: {eps}')\n",
        "  print(f'Accuracy: {adv_acc}')\n",
        "  print(f'Time to obtain adversarial accuracy: {t2-t1}seconds\\n')"
      ],
      "metadata": {
        "colab": {
          "base_uri": "https://localhost:8080/"
        },
        "id": "6GK4S2ZKEl9Q",
        "outputId": "2ac30385-0896-412d-e511-bc70620576e0"
      },
      "execution_count": null,
      "outputs": [
        {
          "output_type": "stream",
          "name": "stdout",
          "text": [
            "Epsilon: 0\n",
            "Accuracy: 0.9788\n",
            "Time to obtain adversarial accuracy: 40.955418825149536seconds\n",
            "\n",
            "Epsilon: 0.01\n",
            "Accuracy: 0.9489\n",
            "Time to obtain adversarial accuracy: 21.361084699630737seconds\n",
            "\n",
            "Epsilon: 0.05\n",
            "Accuracy: 0.3242\n",
            "Time to obtain adversarial accuracy: 40.94659161567688seconds\n",
            "\n",
            "Epsilon: 0.1\n",
            "Accuracy: 0.0139\n",
            "Time to obtain adversarial accuracy: 21.374633312225342seconds\n",
            "\n"
          ]
        }
      ]
    },
    {
      "cell_type": "markdown",
      "source": [
        "Let's try to create a model that's robust against PGD, by fine-tuning.\n",
        "\n",
        "For a benchmark, let's evaluate the accuracy of our initial model on the test set."
      ],
      "metadata": {
        "id": "FY3ntq1IPQsi"
      }
    },
    {
      "cell_type": "code",
      "source": [
        "loss, acc = model.evaluate(ds_test)\n",
        "\n",
        "eps = 5e-2\n",
        "num_iter = 20\n",
        "\n",
        "t1 = time.time()\n",
        "adv = Adversary(model, lambda model, img, label: pgd(model, img, label, epsilon = eps, lr = eps/3, num_iter = num_iter))\n",
        "adv_acc = adv.adversarial_accuracy(ds_test)\n",
        "t2 = time.time()\n",
        "\n",
        "print(f'Accuracy: {acc}')\n",
        "print(f'Adversarial accuracy: {adv_acc}')\n",
        "print(f'Time to obtain adversarial accuracy: {t2-t1}seconds\\n')\n"
      ],
      "metadata": {
        "colab": {
          "base_uri": "https://localhost:8080/"
        },
        "id": "BPijfIuLPP8c",
        "outputId": "7c65c79e-e67b-4c47-806e-992dae5ab4bd"
      },
      "execution_count": null,
      "outputs": [
        {
          "output_type": "stream",
          "name": "stdout",
          "text": [
            "79/79 [==============================] - 0s 3ms/step - loss: 0.0832 - sparse_categorical_accuracy: 0.9788\n",
            "Accuracy: 0.9787999987602234\n",
            "Adversarial accuracy: 0.3241\n",
            "Time to obtain adversarial accuracy: 21.482336044311523seconds\n",
            "\n"
          ]
        }
      ]
    },
    {
      "cell_type": "markdown",
      "source": [
        "Now, we will fine-tune this model in two ways:\n",
        "\n",
        "1. Perform vanilla SGD on this model, first modifying each batch using the PGD attack.\n",
        "2. Perform vanilla SGD on this model, first modifying each batch using the PGD attack, but with a modified learning rate schedule.\n",
        "\n",
        "We can compare these to a model with the same architecture, but which is trained from scratch on the adversarial data."
      ],
      "metadata": {
        "id": "qzgznBppa59V"
      }
    },
    {
      "cell_type": "code",
      "source": [
        "class AdvTrainedModel(tf.keras.Model):\n",
        "    def __init__(self, inputs, outputs, img_modifier):\n",
        "        \n",
        "        super().__init__(inputs, outputs)\n",
        "        self.img_modifier = img_modifier\n",
        "    def train_step(self, data):\n",
        "        # Unpack the data. Its structure depends on your model and\n",
        "        # on what you pass to `fit()`.\n",
        "        x, y = data\n",
        "\n",
        "        #apply adversarial attack to x\n",
        "        x_adv = self.img_modifier(lambda u: self(u), x, y)\n",
        "\n",
        "        with tf.GradientTape() as tape:\n",
        "            y_pred = self(x_adv, training=True)  # Forward pass\n",
        "            # Compute the loss value\n",
        "            # (the loss function is configured in `compile()`)\n",
        "            loss = self.compiled_loss(y, y_pred, regularization_losses=self.losses)\n",
        "\n",
        "        # Compute gradients\n",
        "        trainable_vars = self.trainable_variables\n",
        "        gradients = tape.gradient(loss, trainable_vars)\n",
        "        # Update weights\n",
        "        self.optimizer.apply_gradients(zip(gradients, trainable_vars))\n",
        "        # Update metrics (includes the metric that tracks the loss)\n",
        "        self.compiled_metrics.update_state(y, y_pred)\n",
        "        # Return a dict mapping metric names to current value\n",
        "        return {m.name: m.result() for m in self.metrics}\n"
      ],
      "metadata": {
        "id": "pJRuRFSaa4Pz"
      },
      "execution_count": null,
      "outputs": []
    },
    {
      "cell_type": "markdown",
      "source": [
        "Use PGD during training to modify each batch. Train model from scratch."
      ],
      "metadata": {
        "id": "XqbA56PqkXdP"
      }
    },
    {
      "cell_type": "code",
      "source": [
        "inputs = tf.keras.Input((28,28))\n",
        "hidden = tf.keras.layers.Dense(128,activation = 'relu')(tf.keras.layers.Flatten()(inputs))\n",
        "outputs = tf.keras.layers.Dense(10)(hidden)\n",
        "\n",
        "model_benchmark = AdvTrainedModel(inputs = inputs, outputs = outputs, img_modifier = lambda model, x, y: pgd(model, x, y, epsilon = eps, lr = eps/3, num_iter = 20))\n",
        "model_benchmark.compile(\n",
        "    optimizer = tf.keras.optimizers.Adam(0.001),\n",
        "    loss = tf.keras.losses.SparseCategoricalCrossentropy(from_logits = True),\n",
        "    metrics = [tf.keras.metrics.SparseCategoricalAccuracy()],\n",
        ")\n",
        "\n",
        "history = model_benchmark.fit(\n",
        "    ds_train,\n",
        "    epochs = 20,\n",
        "    validation_data = ds_test\n",
        ")\n"
      ],
      "metadata": {
        "colab": {
          "base_uri": "https://localhost:8080/"
        },
        "id": "jm1muUYXfzLO",
        "outputId": "6f022188-47cc-47dd-de03-53222fca5336"
      },
      "execution_count": null,
      "outputs": [
        {
          "output_type": "stream",
          "name": "stdout",
          "text": [
            "Epoch 1/20\n",
            "469/469 [==============================] - 29s 49ms/step - loss: 0.7615 - sparse_categorical_accuracy: 0.7578 - val_loss: 0.2562 - val_sparse_categorical_accuracy: 0.9291\n",
            "Epoch 2/20\n",
            "469/469 [==============================] - 23s 49ms/step - loss: 0.4736 - sparse_categorical_accuracy: 0.8537 - val_loss: 0.1817 - val_sparse_categorical_accuracy: 0.9522\n",
            "Epoch 3/20\n",
            "469/469 [==============================] - 22s 46ms/step - loss: 0.3910 - sparse_categorical_accuracy: 0.8790 - val_loss: 0.1538 - val_sparse_categorical_accuracy: 0.9574\n",
            "Epoch 4/20\n",
            "469/469 [==============================] - 23s 49ms/step - loss: 0.3413 - sparse_categorical_accuracy: 0.8947 - val_loss: 0.1286 - val_sparse_categorical_accuracy: 0.9624\n",
            "Epoch 5/20\n",
            "469/469 [==============================] - 22s 48ms/step - loss: 0.3094 - sparse_categorical_accuracy: 0.9033 - val_loss: 0.1101 - val_sparse_categorical_accuracy: 0.9690\n",
            "Epoch 6/20\n",
            "469/469 [==============================] - 23s 48ms/step - loss: 0.2830 - sparse_categorical_accuracy: 0.9123 - val_loss: 0.1017 - val_sparse_categorical_accuracy: 0.9708\n",
            "Epoch 7/20\n",
            "469/469 [==============================] - 23s 48ms/step - loss: 0.2645 - sparse_categorical_accuracy: 0.9172 - val_loss: 0.0921 - val_sparse_categorical_accuracy: 0.9724\n",
            "Epoch 8/20\n",
            "469/469 [==============================] - 22s 47ms/step - loss: 0.2491 - sparse_categorical_accuracy: 0.9219 - val_loss: 0.0878 - val_sparse_categorical_accuracy: 0.9750\n",
            "Epoch 9/20\n",
            "469/469 [==============================] - 23s 49ms/step - loss: 0.2370 - sparse_categorical_accuracy: 0.9251 - val_loss: 0.0828 - val_sparse_categorical_accuracy: 0.9741\n",
            "Epoch 10/20\n",
            "469/469 [==============================] - 23s 49ms/step - loss: 0.2289 - sparse_categorical_accuracy: 0.9284 - val_loss: 0.0791 - val_sparse_categorical_accuracy: 0.9771\n",
            "Epoch 11/20\n",
            "469/469 [==============================] - 22s 47ms/step - loss: 0.2193 - sparse_categorical_accuracy: 0.9313 - val_loss: 0.0764 - val_sparse_categorical_accuracy: 0.9771\n",
            "Epoch 12/20\n",
            "469/469 [==============================] - 23s 49ms/step - loss: 0.2120 - sparse_categorical_accuracy: 0.9341 - val_loss: 0.0707 - val_sparse_categorical_accuracy: 0.9785\n",
            "Epoch 13/20\n",
            "469/469 [==============================] - 22s 46ms/step - loss: 0.2058 - sparse_categorical_accuracy: 0.9349 - val_loss: 0.0695 - val_sparse_categorical_accuracy: 0.9797\n",
            "Epoch 14/20\n",
            "469/469 [==============================] - 23s 48ms/step - loss: 0.2012 - sparse_categorical_accuracy: 0.9365 - val_loss: 0.0734 - val_sparse_categorical_accuracy: 0.9779\n",
            "Epoch 15/20\n",
            "469/469 [==============================] - 23s 49ms/step - loss: 0.1943 - sparse_categorical_accuracy: 0.9392 - val_loss: 0.0673 - val_sparse_categorical_accuracy: 0.9805\n",
            "Epoch 16/20\n",
            "469/469 [==============================] - 23s 49ms/step - loss: 0.1896 - sparse_categorical_accuracy: 0.9408 - val_loss: 0.0644 - val_sparse_categorical_accuracy: 0.9801\n",
            "Epoch 17/20\n",
            "469/469 [==============================] - 23s 49ms/step - loss: 0.1849 - sparse_categorical_accuracy: 0.9415 - val_loss: 0.0668 - val_sparse_categorical_accuracy: 0.9794\n",
            "Epoch 18/20\n",
            "469/469 [==============================] - 23s 48ms/step - loss: 0.1810 - sparse_categorical_accuracy: 0.9424 - val_loss: 0.0589 - val_sparse_categorical_accuracy: 0.9821\n",
            "Epoch 19/20\n",
            "469/469 [==============================] - 22s 46ms/step - loss: 0.1778 - sparse_categorical_accuracy: 0.9437 - val_loss: 0.0633 - val_sparse_categorical_accuracy: 0.9796\n",
            "Epoch 20/20\n",
            "469/469 [==============================] - 23s 49ms/step - loss: 0.1740 - sparse_categorical_accuracy: 0.9440 - val_loss: 0.0596 - val_sparse_categorical_accuracy: 0.9810\n"
          ]
        }
      ]
    },
    {
      "cell_type": "markdown",
      "source": [
        "Now, let's fine-tune our original model, going only for 5 epochs."
      ],
      "metadata": {
        "id": "zFKtEIvAm7uM"
      }
    },
    {
      "cell_type": "code",
      "source": [
        "inputs = tf.keras.Input((28,28))\n",
        "hidden = tf.keras.layers.Dense(128,activation = 'relu')(tf.keras.layers.Flatten()(inputs))\n",
        "outputs = tf.keras.layers.Dense(10)(hidden)\n",
        "\n",
        "model_fine_tuned = AdvTrainedModel(inputs = inputs, outputs = outputs, img_modifier = lambda model, x, y: pgd(model, x, y, epsilon = eps, lr = eps/3, num_iter = 20))\n",
        "\n",
        "#initialize model with pretrained weights\n",
        "model_fine_tuned.set_weights(model.get_weights())\n",
        "\n",
        "model_fine_tuned.compile(\n",
        "    optimizer = tf.keras.optimizers.Adam(),\n",
        "    loss = tf.keras.losses.SparseCategoricalCrossentropy(from_logits = True),\n",
        "    metrics = [tf.keras.metrics.SparseCategoricalAccuracy()],\n",
        ")\n",
        "\n",
        "history = model_fine_tuned.fit(\n",
        "    ds_train,\n",
        "    epochs = 5,\n",
        "    validation_data = ds_test\n",
        ")"
      ],
      "metadata": {
        "colab": {
          "base_uri": "https://localhost:8080/"
        },
        "id": "OTY8Dbf6m6-i",
        "outputId": "be10eb59-6050-427c-db61-2df980dab867"
      },
      "execution_count": null,
      "outputs": [
        {
          "output_type": "stream",
          "name": "stdout",
          "text": [
            "Epoch 1/5\n",
            "469/469 [==============================] - 68s 50ms/step - loss: 0.8523 - sparse_categorical_accuracy: 0.7861 - val_loss: 0.0814 - val_sparse_categorical_accuracy: 0.9793\n",
            "Epoch 2/5\n",
            "469/469 [==============================] - 25s 53ms/step - loss: 0.3601 - sparse_categorical_accuracy: 0.8895 - val_loss: 0.0701 - val_sparse_categorical_accuracy: 0.9797\n",
            "Epoch 3/5\n",
            "469/469 [==============================] - 23s 49ms/step - loss: 0.2732 - sparse_categorical_accuracy: 0.9105 - val_loss: 0.0666 - val_sparse_categorical_accuracy: 0.9816\n",
            "Epoch 4/5\n",
            "469/469 [==============================] - 23s 50ms/step - loss: 0.2319 - sparse_categorical_accuracy: 0.9222 - val_loss: 0.0656 - val_sparse_categorical_accuracy: 0.9809\n",
            "Epoch 5/5\n",
            "469/469 [==============================] - 25s 53ms/step - loss: 0.2081 - sparse_categorical_accuracy: 0.9290 - val_loss: 0.0616 - val_sparse_categorical_accuracy: 0.9811\n"
          ]
        }
      ]
    },
    {
      "cell_type": "markdown",
      "source": [
        "Now, let's fine-tune our original model again, but using a custom learning-rate schedule."
      ],
      "metadata": {
        "id": "k3a89DwCxdaC"
      }
    },
    {
      "cell_type": "code",
      "source": [
        "def scheduler(epoch, lr):\n",
        "  if epoch <= 3:\n",
        "    return lr * (epoch+1)/4 #reaches peak (i.e. lr), at epoch = 3\n",
        "  else:\n",
        "    return lr * np.exp(3-epoch) #decays exponentially afterwards\n",
        "\n",
        "custom_lr_scheduler = tf.keras.callbacks.LearningRateScheduler(scheduler)\n",
        "\n",
        "inputs = tf.keras.Input((28,28))\n",
        "hidden = tf.keras.layers.Dense(128,activation = 'relu')(tf.keras.layers.Flatten()(inputs))\n",
        "outputs = tf.keras.layers.Dense(10)(hidden)\n",
        "\n",
        "model_custom_lr = AdvTrainedModel(inputs = inputs, outputs = outputs, img_modifier = lambda model, x, y: pgd(model, x, y, epsilon = eps, lr = eps/3, num_iter = 20))\n",
        "\n",
        "#initialize model with pretrained weights\n",
        "model_custom_lr.set_weights(model.get_weights())\n",
        "\n",
        "model_custom_lr.compile(\n",
        "    optimizer = tf.keras.optimizers.SGD(),\n",
        "    loss = tf.keras.losses.SparseCategoricalCrossentropy(from_logits = True),\n",
        "    metrics = [tf.keras.metrics.SparseCategoricalAccuracy()],\n",
        ")\n",
        "\n",
        "history = model_custom_lr.fit(\n",
        "    ds_train,\n",
        "    epochs = 5,\n",
        "    validation_data = ds_test,\n",
        "    callbacks = [custom_lr_scheduler]\n",
        "\n",
        ")"
      ],
      "metadata": {
        "colab": {
          "base_uri": "https://localhost:8080/"
        },
        "id": "YWY3zyB_xZdU",
        "outputId": "6eef1604-ae7f-4bb3-9dab-64b90ae24ea2"
      },
      "execution_count": null,
      "outputs": [
        {
          "output_type": "stream",
          "name": "stdout",
          "text": [
            "Epoch 1/5\n",
            "469/469 [==============================] - 28s 49ms/step - loss: 2.8294 - sparse_categorical_accuracy: 0.4480 - val_loss: 0.0977 - val_sparse_categorical_accuracy: 0.9760 - lr: 0.0025\n",
            "Epoch 2/5\n",
            "469/469 [==============================] - 23s 49ms/step - loss: 2.1979 - sparse_categorical_accuracy: 0.5378 - val_loss: 0.0975 - val_sparse_categorical_accuracy: 0.9755 - lr: 0.0012\n",
            "Epoch 3/5\n",
            "469/469 [==============================] - 22s 46ms/step - loss: 2.0174 - sparse_categorical_accuracy: 0.5651 - val_loss: 0.0980 - val_sparse_categorical_accuracy: 0.9753 - lr: 9.3750e-04\n",
            "Epoch 4/5\n",
            "469/469 [==============================] - 23s 49ms/step - loss: 1.8979 - sparse_categorical_accuracy: 0.5820 - val_loss: 0.0982 - val_sparse_categorical_accuracy: 0.9750 - lr: 9.3750e-04\n",
            "Epoch 5/5\n",
            "469/469 [==============================] - 23s 48ms/step - loss: 1.8265 - sparse_categorical_accuracy: 0.5931 - val_loss: 0.0979 - val_sparse_categorical_accuracy: 0.9749 - lr: 3.4489e-04\n"
          ]
        }
      ]
    },
    {
      "cell_type": "code",
      "source": [
        "def get_adv_acc(model, attacker):\n",
        "  \"\"\"\n",
        "  attacker: callable, which takes in a model, img, and label and returns a modified img\n",
        "  \"\"\"\n",
        "  t1 = time.time()\n",
        "  adv = Adversary(model, lambda model, img, label: pgd(model, img, label, epsilon = eps, lr = eps/3, num_iter = 20))\n",
        "  adv_acc = adv.adversarial_accuracy(ds_test)\n",
        "  t2 = time.time()\n",
        "  print(f'Adversarial Accuracy: {adv_acc}')\n",
        "  print(f'Time to obtain adversarial accuracy: {t2-t1}seconds\\n')"
      ],
      "metadata": {
        "id": "0hrg_OU4spBI"
      },
      "execution_count": null,
      "outputs": []
    },
    {
      "cell_type": "code",
      "source": [
        "model_fine_tuned.evaluate(ds_test)"
      ],
      "metadata": {
        "colab": {
          "base_uri": "https://localhost:8080/"
        },
        "id": "J5tc6kTQwIC0",
        "outputId": "ee2df9e0-b379-4827-f656-d682dfb96d85"
      },
      "execution_count": null,
      "outputs": [
        {
          "output_type": "stream",
          "name": "stdout",
          "text": [
            "79/79 [==============================] - 0s 5ms/step - loss: 0.0616 - sparse_categorical_accuracy: 0.9811\n"
          ]
        },
        {
          "output_type": "execute_result",
          "data": {
            "text/plain": [
              "[0.061613038182258606, 0.9811000227928162]"
            ]
          },
          "metadata": {},
          "execution_count": 75
        }
      ]
    },
    {
      "cell_type": "markdown",
      "source": [
        "Let's implement the DeepFool algorithm. Although it is an iterative algorithm which runs until the image is misclassified, we can stop after the first step and return the modified image.\n"
      ],
      "metadata": {
        "id": "pjR_b3AkmYlQ"
      }
    },
    {
      "cell_type": "code",
      "source": [
        "#try non-self-consistent stuff first\n",
        "#first iteration of the deepfool algorithm\n",
        "def deepfool(model, img, label):\n",
        "  #calculate the gradient of f_k and f_k0\n",
        "  with tf.GradientTape() as tape:\n",
        "    tape.watch(img)\n",
        "    prediction = model(img)\n",
        "    #get class that each img was classified as\n",
        "    idx_preds = tf.math.argmax(prediction, axis = -1)\n",
        "    #get value of function for above classes\n",
        "    f0 = tf.gather(prediction, idx_preds, axis = 1, batch_dims = 1)\n",
        "\n",
        "    jacobian = tape.batch_jacobian(prediction, img)\n",
        "  w0 = tf.gather(jacobian, idx_preds, axis = 1, batch_dims = 1)\n",
        "\n",
        "  #distances are given by |f_k - f_k0|/|w_k - w_k0|\n",
        "  distances_num = tf.math.abs(prediction - f0[:,tf.newaxis])\n",
        "  distances_denom = tf.math.reduce_euclidean_norm(jacobian - tf.expand_dims(w0, axis = 1), axis = [-3,-2,-1]) #calculate euclidean norm over the image dimensions \n",
        "\n",
        "  distances = tf.math.divide_no_nan(distances_num, distances_denom) #make sure that there aren't any problems with dividing by zero\n",
        "\n",
        "  #obtain closest classes which are not the ones predicted by the model\n",
        "  #the first element is to ignore the \"distance zero\" classes, which are just the classes predicted by the model\n",
        "  classes_closest = tf.argsort(distances, axis = -1, direction = 'ASCENDING')[:,1] \n",
        "\n",
        "  f_closest = tf.gather(prediction, classes_closest, axis = 1, batch_dims = 1)\n",
        "  w_closest = tf.gather(jacobian, classes_closest, axis = 1, batch_dims = 1)\n",
        "\n",
        "  perturbation = (tf.math.abs(f_closest-f0)/tf.math.reduce_euclidean_norm(w_closest-w0, axis = [-3,-2,-1])**2 )[:, tf.newaxis, tf.newaxis, tf.newaxis] * (w_closest - w0)\n",
        "  \n",
        "  return tf.clip_by_value(img + perturbation,0,1) \n",
        "\n",
        "#only take in a single image, which we will assume has shape [28,28,1]\n",
        "def deepfool_scf(model, img, num_iter = 30, eta = 1e-4):\n",
        "\n",
        "  img = tf.expand_dims(img, axis = 0) #add batch axis so model can evaluate img\n",
        "  class_0 = tf.math.argmax(model(img), axis = -1)\n",
        "\n",
        "  for i in range(num_iter):\n",
        "    print(f'Iteration {i}')\n",
        "    #calculate og label from model\n",
        "    with tf.GradientTape() as tape:\n",
        "      tape.watch(img)\n",
        "      prediction = model(img)\n",
        "      #get class that img was classified as\n",
        "      class_0 = tf.math.argmax(prediction, axis = -1)\n",
        "\n",
        "      #get value of f for the predicted class\n",
        "      f0 = tf.gather(prediction, class_0, axis = 1, batch_dims = 1)\n",
        "\n",
        "      jacobian = tape.batch_jacobian(prediction, img)\n",
        "      w0 = tf.gather(jacobian, class_0, axis = 1, batch_dims = 1)\n",
        "\n",
        "    distances_num = tf.math.abs(prediction - f0[:, tf.newaxis])\n",
        "    distances_denom = tf.math.reduce_euclidean_norm(jacobian - tf.expand_dims(w0, axis = 1), axis = [-3,-2,-1]) #calculate euclidean norm over the image dimensions \n",
        "\n",
        "    distances = tf.math.divide_no_nan(distances_num, distances_denom) #make sure that there aren't any problems with dividing by zero\n",
        "\n",
        "    #obtain closest class which is not the one predicted by the model\n",
        "    #the first element in the second axis is to ignore the \"distance zero\" classes, which are just the classes predicted by the model\n",
        "    classes_closest = tf.argsort(distances, axis = -1, direction = 'ASCENDING')[:,1] \n",
        "\n",
        "    f_closest = tf.gather(prediction, classes_closest, axis = 1, batch_dims = 1) #find value of loss for this closest class\n",
        "    w_closest = tf.gather(jacobian, classes_closest, axis = 1, batch_dims = 1)   #find gradient for this closest class\n",
        "\n",
        "    #find the perturbation which gets us to the decision boundary\n",
        "    r = (1+eta)*(tf.math.abs(f_closest-f0)/tf.math.reduce_euclidean_norm(w_closest-w0, axis = [-3,-2,-1])**2 )[:, tf.newaxis, tf.newaxis, tf.newaxis] * (w_closest - w0)\n",
        "    img = tf.clip_by_value(img + r,0,1) #make sure that the image exists within the correct bounds\n",
        "    \n",
        "    print('norm of modification: {}'.format(tf.norm(r)))\n",
        "    #print('Norm of modified img: {}'.format(tf.norm(img_mod)))\n",
        "    class_predict = tf.math.argmax(model(img), axis = -1)\n",
        "    if class_predict != class_0:\n",
        "      print('Network fooled')\n",
        "      return img[0]\n",
        "\n",
        "  return img[0]"
      ],
      "metadata": {
        "id": "Vb6UBsL1eMvv"
      },
      "execution_count": null,
      "outputs": []
    },
    {
      "cell_type": "code",
      "source": [
        "for x in ds_test:\n",
        "  imgs_test, labels_test = x\n",
        "  break"
      ],
      "metadata": {
        "id": "FYvYjB-QLjbl"
      },
      "execution_count": null,
      "outputs": []
    },
    {
      "cell_type": "code",
      "source": [
        "img_unmod = imgs_test[15]\n",
        "img_mod = deepfool_scf(model, img_unmod, eta = 3e-1)\n",
        "\n",
        "display_images(img_unmod, 'Unmodified')\n",
        "display_images(img_mod, 'Modified')"
      ],
      "metadata": {
        "colab": {
          "base_uri": "https://localhost:8080/",
          "height": 870
        },
        "id": "bICv5sdGzceM",
        "outputId": "10eebcdf-a827-43fa-fa76-eec0668ae6f5"
      },
      "execution_count": null,
      "outputs": [
        {
          "output_type": "stream",
          "name": "stdout",
          "text": [
            "Iteration 0\n",
            "norm of modification: 0.8033120632171631\n",
            "Iteration 1\n",
            "norm of modification: 0.13255852460861206\n",
            "Iteration 2\n",
            "norm of modification: 0.013370504602789879\n",
            "Iteration 3\n",
            "norm of modification: 0.0010997435310855508\n",
            "Iteration 4\n",
            "norm of modification: 9.04775079106912e-05\n",
            "Iteration 5\n",
            "norm of modification: 7.433169230353087e-06\n",
            "Iteration 6\n",
            "norm of modification: 6.702037467221089e-07\n",
            "Network fooled\n",
            "1/1 [==============================] - 0s 24ms/step\n"
          ]
        },
        {
          "output_type": "display_data",
          "data": {
            "text/plain": [
              "<Figure size 432x288 with 1 Axes>"
            ],
            "image/png": "[encoded data removed]"
          },
          "metadata": {
            "needs_background": "light"
          }
        },
        {
          "output_type": "stream",
          "name": "stdout",
          "text": [
            "1/1 [==============================] - 0s 25ms/step\n"
          ]
        },
        {
          "output_type": "display_data",
          "data": {
            "text/plain": [
              "<Figure size 432x288 with 1 Axes>"
            ],
            "image/png": "[encoded data removed]"
          },
          "metadata": {
            "needs_background": "light"
          }
        }
      ]
    },
    {
      "cell_type": "code",
      "source": [
        "t1 = time.time() \n",
        "adv = Adversary(model, deepfool)\n",
        "adv_acc = adv.adversarial_accuracy(ds_test)\n",
        "t2 = time.time()\n",
        "print(f'Accuracy: {adv_acc}')\n",
        "print(f'Time to obtain adversarial accuracy: {t2-t1}seconds\\n')"
      ],
      "metadata": {
        "colab": {
          "base_uri": "https://localhost:8080/"
        },
        "id": "DtsMy27_tHb0",
        "outputId": "4ddf202c-6e25-4e0e-8cc9-48da17cd460f"
      },
      "execution_count": null,
      "outputs": [
        {
          "output_type": "stream",
          "name": "stdout",
          "text": [
            "Accuracy: 0.9785\n",
            "Time to obtain adversarial accuracy: 21.51172399520874seconds\n",
            "\n"
          ]
        }
      ]
    },
    {
      "cell_type": "markdown",
      "source": [
        "From the above, we see that the single-iteration deepfool algorithm decreases the accuracy on the **training set** from 99% to ~67%. That's pretty dramatic!\n",
        "\n",
        "Now, let's implement the one-pixel attack algorithm."
      ],
      "metadata": {
        "id": "q3ChgoesHuPU"
      }
    },
    {
      "cell_type": "code",
      "source": [
        "from scipy.optimize import differential_evolution, minimize\n",
        "\n",
        "def modify_img(img, mod, batched = True):\n",
        "  x, y, z = mod\n",
        "  x = int(x)\n",
        "  y = int(y)\n",
        "  img_mod = tf.Variable(tf.identity(img))\n",
        "\n",
        "  if batched:\n",
        "    img_mod = img_mod[0,x,y,0].assign(z)\n",
        "  else:\n",
        "    img_mod = img_mod[x,y,0].assign(z)\n",
        "  return img_mod\n",
        "\n",
        "def one_pixel(model, img, target, mutation = 0.5, popsize = 20):\n",
        "\n",
        "  img = tf.expand_dims(img, axis = 0)\n",
        "  prediction = model(img)\n",
        "  class_predicted = tf.math.argmax(prediction, axis = 1).numpy()\n",
        "  if class_predicted == target:\n",
        "    raise Exception('Image is already classified by model as target.')\n",
        "\n",
        "  #return probability of target class\n",
        "  #x and y can take integer values from 0 to 27 (inclusive), while z is a float between 0 and 1\n",
        "\n",
        "  def func(input):\n",
        "    img_mod = modify_img(img, input)\n",
        "    prob =  tf.nn.softmax(model(img_mod))[0,target].numpy()\n",
        "    # print(prob)\n",
        "    return 1-prob #minus sign because we want to maximize this prob (i.e. minimize 1-prob)\n",
        "\n",
        "  best_i = 0\n",
        "  best_j = 0\n",
        "  max_prob = 0\n",
        "\n",
        "  for i in range(img.shape[1]):\n",
        "    for j in range(img.shape[2]):\n",
        "      opt = differential_evolution(lambda x: func([i,j,x]), bounds = [(0,1)], popsize = popsize, mutation = mutation)\n",
        "#      opt = minimize(lambda x: func([i,j,x]), x0 = [0.5], bounds = [(0,1)], method = 'Nelder-Mead')\n",
        "      prob = 1 - func([i,j,opt.x])\n",
        "      if prob > max_prob:\n",
        "        best_i, best_j, max_prob = i,j,prob\n",
        "        print('New max prob: {} at pixel ({},{})'.format(max_prob,i,j))\n",
        "      # print(f'Pixel ({i},{j}): {opt.x}')\n",
        "      # print('Probability of target class: {}'.format(1-func([i,j,opt.x])))\n",
        "\n",
        "\n",
        "  # opt = differential_evolution(func, bounds = [(0,27),(0,27),(0,1)],integrality = [True, True, False], popsize = popsize, mutation = mutation, polish = False, init = 'sobol')\n",
        "  # print('Success? {}'.format(opt.success))\n",
        "  # print('Reason for termination: {}'.format(opt.message))\n",
        "  return [best_i, best_j, opt.x]\n"
      ],
      "metadata": {
        "id": "IFJYEIl6KYqE"
      },
      "execution_count": null,
      "outputs": []
    },
    {
      "cell_type": "code",
      "source": [
        "img_unmod = imgs_test[100]\n",
        "display_images(img_unmod, 'Unmodified')\n",
        "\n",
        "#mod = one_pixel(model, img_unmod, target = 5)\n",
        "mod = one_pixel(model, img_unmod, target = 5, mutation = (0.5,1.5), popsize = 20)\n",
        "print(mod)\n",
        "img_one_pixel = modify_img(img_unmod, mod, batched = False)\n",
        "\n",
        "display_images(img_one_pixel, 'One-pixel Attacked')"
      ],
      "metadata": {
        "colab": {
          "base_uri": "https://localhost:8080/",
          "height": 783
        },
        "id": "J0xElX-_UDj2",
        "outputId": "b152f080-3b4d-4a78-9e14-ff27bd028d55"
      },
      "execution_count": null,
      "outputs": [
        {
          "output_type": "stream",
          "name": "stdout",
          "text": [
            "1/1 [==============================] - 0s 155ms/step\n"
          ]
        },
        {
          "output_type": "display_data",
          "data": {
            "text/plain": [
              "<Figure size 432x288 with 1 Axes>"
            ],
            "image/png": "[encoded data removed]"
          },
          "metadata": {
            "needs_background": "light"
          }
        },
        {
          "output_type": "stream",
          "name": "stdout",
          "text": [
            "New max prob: 0.0003083453339058906 at pixel (0,0)\n",
            "New max prob: 0.00039960138383321464 at pixel (0,1)\n",
            "New max prob: 0.0004064769600518048 at pixel (0,25)\n",
            "New max prob: 0.0005566824693232775 at pixel (1,14)\n",
            "New max prob: 0.0005809491267427802 at pixel (2,18)\n",
            "New max prob: 0.0008608853677287698 at pixel (3,4)\n",
            "New max prob: 0.002992145949974656 at pixel (3,25)\n",
            "New max prob: 0.007239848840981722 at pixel (4,25)\n",
            "New max prob: 0.01254253275692463 at pixel (17,10)\n",
            "[17, 10, array([0.00332741])]\n",
            "1/1 [==============================] - 0s 32ms/step\n"
          ]
        },
        {
          "output_type": "display_data",
          "data": {
            "text/plain": [
              "<Figure size 432x288 with 1 Axes>"
            ],
            "image/png": "[encoded data removed]"
          },
          "metadata": {
            "needs_background": "light"
          }
        }
      ]
    },
    {
      "cell_type": "code",
      "source": [],
      "metadata": {
        "id": "m41rYP-ne-wc"
      },
      "execution_count": null,
      "outputs": []
    }
  ]
}